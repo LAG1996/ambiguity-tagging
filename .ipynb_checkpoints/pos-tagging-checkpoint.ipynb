{
 "cells": [
  {
   "cell_type": "code",
   "execution_count": 23,
   "metadata": {},
   "outputs": [],
   "source": [
    "import nltk\n",
    "import pandas as pd\n",
    "import tkinter"
   ]
  },
  {
   "cell_type": "code",
   "execution_count": 2,
   "metadata": {},
   "outputs": [],
   "source": [
    "tokens = nltk.word_tokenize('Have you ever heard of Kaggle? It is a repository of freely available, open-source datasets.')"
   ]
  },
  {
   "cell_type": "code",
   "execution_count": 166,
   "metadata": {},
   "outputs": [
    {
     "data": {
      "text/plain": [
       "['Have',\n",
       " 'you',\n",
       " 'ever',\n",
       " 'heard',\n",
       " 'of',\n",
       " 'Kaggle',\n",
       " '?',\n",
       " 'It',\n",
       " 'is',\n",
       " 'a',\n",
       " 'repository',\n",
       " 'of',\n",
       " 'freely',\n",
       " 'available',\n",
       " ',',\n",
       " 'open-source',\n",
       " 'datasets',\n",
       " '.']"
      ]
     },
     "execution_count": 166,
     "metadata": {},
     "output_type": "execute_result"
    }
   ],
   "source": [
    "tokens"
   ]
  },
  {
   "cell_type": "code",
   "execution_count": 167,
   "metadata": {},
   "outputs": [
    {
     "data": {
      "text/plain": [
       "[('Have', 'VBP'),\n",
       " ('you', 'PRP'),\n",
       " ('ever', 'RB'),\n",
       " ('heard', 'JJR'),\n",
       " ('of', 'IN'),\n",
       " ('Kaggle', 'NNP'),\n",
       " ('?', '.'),\n",
       " ('It', 'PRP'),\n",
       " ('is', 'VBZ'),\n",
       " ('a', 'DT'),\n",
       " ('repository', 'NN'),\n",
       " ('of', 'IN'),\n",
       " ('freely', 'RB'),\n",
       " ('available', 'JJ'),\n",
       " (',', ','),\n",
       " ('open-source', 'JJ'),\n",
       " ('datasets', 'NNS'),\n",
       " ('.', '.')]"
      ]
     },
     "execution_count": 167,
     "metadata": {},
     "output_type": "execute_result"
    }
   ],
   "source": [
    "nltk.pos_tag(tokens)"
   ]
  },
  {
   "cell_type": "code",
   "execution_count": 5,
   "metadata": {},
   "outputs": [],
   "source": [
    "token = nltk.word_tokenize('godzilla has been known for years')"
   ]
  },
  {
   "cell_type": "code",
   "execution_count": 6,
   "metadata": {},
   "outputs": [
    {
     "data": {
      "text/plain": [
       "[('godzilla', 'NN'),\n",
       " ('has', 'VBZ'),\n",
       " ('been', 'VBN'),\n",
       " ('known', 'VBN'),\n",
       " ('for', 'IN'),\n",
       " ('years', 'NNS')]"
      ]
     },
     "execution_count": 6,
     "metadata": {},
     "output_type": "execute_result"
    }
   ],
   "source": [
    "nltk.pos_tag(token)"
   ]
  },
  {
   "cell_type": "code",
   "execution_count": 7,
   "metadata": {},
   "outputs": [],
   "source": [
    "reqs = pd.read_csv('srs-from-nasa.2000.csv', '\\n', header=None)[0]"
   ]
  },
  {
   "cell_type": "code",
   "execution_count": 8,
   "metadata": {},
   "outputs": [
    {
     "data": {
      "text/plain": [
       "['shall']"
      ]
     },
     "execution_count": 8,
     "metadata": {},
     "output_type": "execute_result"
    }
   ],
   "source": [
    "nltk.word_tokenize('shall')"
   ]
  },
  {
   "cell_type": "code",
   "execution_count": 9,
   "metadata": {},
   "outputs": [
    {
     "data": {
      "text/plain": [
       "[('shall', 'MD')]"
      ]
     },
     "execution_count": 9,
     "metadata": {},
     "output_type": "execute_result"
    }
   ],
   "source": [
    "nltk.pos_tag(nltk.word_tokenize('shall'))"
   ]
  },
  {
   "cell_type": "code",
   "execution_count": 110,
   "metadata": {},
   "outputs": [],
   "source": [
    "def get_pos_tags(text):\n",
    "    return nltk.pos_tag(nltk.word_tokenize(text))\n",
    "\n",
    "def chunkerize(chunkGram, tags):\n",
    "    chunker = nltk.RegexpParser(chunkGram)\n",
    "    return chunker.parse(tags)"
   ]
  },
  {
   "cell_type": "code",
   "execution_count": 165,
   "metadata": {},
   "outputs": [
    {
     "name": "stdout",
     "output_type": "stream",
     "text": [
      "(S\n",
      "  As/IN\n",
      "  part/NN\n",
      "  of/IN\n",
      "  System/NNP\n",
      "  Initialization/NNP\n",
      "  ,/,\n",
      "  the/DT\n",
      "  Boot/NNP\n",
      "  ROM/NNP\n",
      "  shall/MD\n",
      "  [/VB\n",
      "  SRS234/NNP\n",
      "  ]/NNP\n",
      "  (AMBIG be/VB configured/VBN)\n",
      "  to/TO\n",
      "  ,/,\n",
      "  after/IN\n",
      "  completing/VBG\n",
      "  IBIT/NNP\n",
      "  ,/,\n",
      "  call/VB\n",
      "  the/DT\n",
      "  manufacturer-supplied/JJ\n",
      "  VxWorks/NNP\n",
      "  Board/NNP\n",
      "  Support/NNP\n",
      "  Package/NNP\n",
      "  (/(\n",
      "  BSP/NNP\n",
      "  )/)\n",
      "  initialization/NN\n",
      "  software/NN\n",
      "  followed/VBN\n",
      "  by/IN\n",
      "  a/DT\n",
      "  call/NN\n",
      "  to/TO\n",
      "  the/DT\n",
      "  FTSS/NNP\n",
      "  System/NNP\n",
      "  Initialization/NNP\n",
      "  software/NN\n",
      "  ./.)\n"
     ]
    }
   ],
   "source": [
    "tagged =get_pos_tags(reqs[1])\n",
    "passive_voice_ambig = r\"\"\"\n",
    "    AMBIG: {<VB>+<VBN>+}\n",
    "\"\"\"\n",
    "print(chunkerize(passive_voice_ambig, tagged))"
   ]
  },
  {
   "cell_type": "code",
   "execution_count": 164,
   "metadata": {},
   "outputs": [
    {
     "name": "stdout",
     "output_type": "stream",
     "text": [
      "(S\n",
      "  As/IN\n",
      "  part/NN\n",
      "  of/IN\n",
      "  System/NNP\n",
      "  Initialization/NNP\n",
      "  ,/,\n",
      "  the/DT\n",
      "  Boot/NNP\n",
      "  ROM/NNP\n",
      "  shall/MD\n",
      "  [/VB\n",
      "  SRS234/NNP\n",
      "  ]/NNP\n",
      "  be/VB\n",
      "  configured/VBN\n",
      "  to/TO\n",
      "  ,/,\n",
      "  after/IN\n",
      "  completing/VBG\n",
      "  IBIT/NNP\n",
      "  ,/,\n",
      "  call/VB\n",
      "  the/DT\n",
      "  (AMBIG manufacturer-supplied/JJ)\n",
      "  VxWorks/NNP\n",
      "  Board/NNP\n",
      "  Support/NNP\n",
      "  Package/NNP\n",
      "  (/(\n",
      "  BSP/NNP\n",
      "  )/)\n",
      "  initialization/NN\n",
      "  software/NN\n",
      "  followed/VBN\n",
      "  by/IN\n",
      "  a/DT\n",
      "  call/NN\n",
      "  to/TO\n",
      "  the/DT\n",
      "  FTSS/NNP\n",
      "  System/NNP\n",
      "  Initialization/NNP\n",
      "  software/NN\n",
      "  ./.)\n"
     ]
    }
   ],
   "source": [
    "adj_ambig = r\"\"\"\n",
    "    AMBIG: {<JJ>+}\n",
    "\"\"\"\n",
    "print(chunkerize(adj_ambig, tagged))"
   ]
  },
  {
   "cell_type": "code",
   "execution_count": 163,
   "metadata": {},
   "outputs": [
    {
     "name": "stdout",
     "output_type": "stream",
     "text": [
      "(S\n",
      "  As/IN\n",
      "  part/NN\n",
      "  of/IN\n",
      "  System/NNP\n",
      "  Initialization/NNP\n",
      "  ,/,\n",
      "  the/DT\n",
      "  Boot/NNP\n",
      "  ROM/NNP\n",
      "  shall/MD\n",
      "  [/VB\n",
      "  SRS234/NNP\n",
      "  ]/NNP\n",
      "  be/VB\n",
      "  configured/VBN\n",
      "  to/TO\n",
      "  ,/,\n",
      "  after/IN\n",
      "  completing/VBG\n",
      "  IBIT/NNP\n",
      "  ,/,\n",
      "  call/VB\n",
      "  the/DT\n",
      "  manufacturer-supplied/JJ\n",
      "  VxWorks/NNP\n",
      "  Board/NNP\n",
      "  Support/NNP\n",
      "  Package/NNP\n",
      "  (/(\n",
      "  BSP/NNP\n",
      "  )/)\n",
      "  initialization/NN\n",
      "  software/NN\n",
      "  followed/VBN\n",
      "  by/IN\n",
      "  a/DT\n",
      "  call/NN\n",
      "  to/TO\n",
      "  the/DT\n",
      "  FTSS/NNP\n",
      "  System/NNP\n",
      "  Initialization/NNP\n",
      "  software/NN\n",
      "  ./.)\n"
     ]
    }
   ],
   "source": [
    "adv_ambig = r\"\"\"\n",
    "    AMBIG: {<RB>+}\n",
    "\"\"\"\n",
    "print(chunkerize(adv_ambig, tagged))"
   ]
  }
 ],
 "metadata": {
  "kernelspec": {
   "display_name": "Python 3",
   "language": "python",
   "name": "python3"
  },
  "language_info": {
   "codemirror_mode": {
    "name": "ipython",
    "version": 3
   },
   "file_extension": ".py",
   "mimetype": "text/x-python",
   "name": "python",
   "nbconvert_exporter": "python",
   "pygments_lexer": "ipython3",
   "version": "3.6.8"
  }
 },
 "nbformat": 4,
 "nbformat_minor": 2
}
